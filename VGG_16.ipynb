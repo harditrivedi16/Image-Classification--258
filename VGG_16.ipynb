{
  "nbformat": 4,
  "nbformat_minor": 0,
  "metadata": {
    "colab": {
      "provenance": [],
      "authorship_tag": "ABX9TyM/0qBC3RXzL8B06NDZYyHY",
      "include_colab_link": true
    },
    "kernelspec": {
      "name": "python3",
      "display_name": "Python 3"
    },
    "language_info": {
      "name": "python"
    }
  },
  "cells": [
    {
      "cell_type": "markdown",
      "metadata": {
        "id": "view-in-github",
        "colab_type": "text"
      },
      "source": [
        "<a href=\"https://colab.research.google.com/github/harditrivedi16/Image-Classification--258/blob/main/VGG_16.ipynb\" target=\"_parent\"><img src=\"https://colab.research.google.com/assets/colab-badge.svg\" alt=\"Open In Colab\"/></a>"
      ]
    },
    {
      "cell_type": "markdown",
      "source": [
        "# Training the VGG 16 Model\n"
      ],
      "metadata": {
        "id": "9SRaugCaQW8l"
      }
    },
    {
      "cell_type": "markdown",
      "source": [
        "## Importing and Installing all the libraries"
      ],
      "metadata": {
        "id": "gUSEkImpSnyh"
      }
    },
    {
      "cell_type": "code",
      "execution_count": 1,
      "metadata": {
        "id": "_CIaezpBQV2X"
      },
      "outputs": [],
      "source": [
        "import os\n",
        "#import torchvision.transforms as transforms\n",
        "from torchvision.datasets import ImageFolder\n",
        "from torch.utils.data import DataLoader, random_split\n",
        "#from torchvision.models import vgg16\n",
        "import torch.optim as optim\n",
        "import torch.nn as nn\n",
        "\n",
        "import torch\n",
        "#import torch.nn as nn\n",
        "#import torch.optim as optim\n",
        "from torch.optim import lr_scheduler\n",
        "import numpy as np\n",
        "import torchvision\n",
        "from torchvision import datasets, models, transforms\n",
        "import torch.nn.functional as F"
      ]
    },
    {
      "cell_type": "markdown",
      "source": [
        "## Adding the relevant class of VGG 16 model from the given github [link](https://github.com/lkk688/MultiModalClassifier/blob/main/TorchClassifier/myTorchModels/TorchCNNmodels.py)"
      ],
      "metadata": {
        "id": "nTxjl4Z6nWrE"
      }
    },
    {
      "cell_type": "code",
      "source": [],
      "metadata": {
        "id": "Mt7-a-5hnV6X"
      },
      "execution_count": null,
      "outputs": []
    },
    {
      "cell_type": "markdown",
      "source": [
        "## Mounting the drive and getting the dataset folder's path"
      ],
      "metadata": {
        "id": "2P95s1iIS_CC"
      }
    },
    {
      "cell_type": "code",
      "source": [
        "# Mount Google Drive\n",
        "from google.colab import drive\n",
        "drive.mount('/content/drive')"
      ],
      "metadata": {
        "colab": {
          "base_uri": "https://localhost:8080/"
        },
        "id": "njf1au5hSleC",
        "outputId": "c5c276c3-ab24-4446-e65f-f735d91756d9"
      },
      "execution_count": 2,
      "outputs": [
        {
          "output_type": "stream",
          "name": "stdout",
          "text": [
            "Mounted at /content/drive\n"
          ]
        }
      ]
    },
    {
      "cell_type": "code",
      "source": [
        "# Define the path to the dataset folder\n",
        "data_path = '/content/drive/MyDrive/CMPE 258 Assignment 2/Data_with_class'"
      ],
      "metadata": {
        "id": "sXo3q-8NSzyE"
      },
      "execution_count": 3,
      "outputs": []
    },
    {
      "cell_type": "markdown",
      "source": [
        "### Verifying that the number of images is more than 500"
      ],
      "metadata": {
        "id": "gmmtzWxkTQ7m"
      }
    },
    {
      "cell_type": "code",
      "source": [
        "# Function to count the number of .jpg files in the folder\n",
        "def count_images(folder_path):\n",
        "    jpg_files = [f for f in os.listdir(folder_path) if f.endswith('.jpg')]\n",
        "    return len(jpg_files)"
      ],
      "metadata": {
        "id": "wO6H_BBfTD8v"
      },
      "execution_count": 4,
      "outputs": []
    },
    {
      "cell_type": "code",
      "source": [
        "# Count the number of images in the folder\n",
        "num_images = count_images(data_path)\n",
        "print(\"Number of images in the folder:\", num_images)"
      ],
      "metadata": {
        "colab": {
          "base_uri": "https://localhost:8080/"
        },
        "id": "K1-C_vVvTNaP",
        "outputId": "e754b5f1-01d5-4489-bcb7-ee892600ea0d"
      },
      "execution_count": 5,
      "outputs": [
        {
          "output_type": "stream",
          "name": "stdout",
          "text": [
            "Number of images in the folder: 0\n"
          ]
        }
      ]
    },
    {
      "cell_type": "markdown",
      "source": [
        "## Data Preprocessing"
      ],
      "metadata": {
        "id": "y9_2yPzzTYfr"
      }
    },
    {
      "cell_type": "code",
      "source": [
        "# Load the dataset with ImageFolder\n",
        "full_dataset = datasets.ImageFolder(data_path)"
      ],
      "metadata": {
        "id": "zP40UceYfKWB"
      },
      "execution_count": 6,
      "outputs": []
    },
    {
      "cell_type": "markdown",
      "source": [
        "### Splitting the dataset into train and val model"
      ],
      "metadata": {
        "id": "4p6gnLK4fVyk"
      }
    },
    {
      "cell_type": "code",
      "source": [
        "# Calculate sizes for splitting the dataset into train and validation\n",
        "train_size = int(0.8 * len(full_dataset))\n",
        "valid_size = len(full_dataset) - train_size\n",
        "\n",
        "# Split the dataset\n",
        "train_dataset, valid_dataset = random_split(full_dataset, [train_size, valid_size])"
      ],
      "metadata": {
        "id": "O3SQudpafUxd"
      },
      "execution_count": 7,
      "outputs": []
    },
    {
      "cell_type": "markdown",
      "source": [
        "### Applying the transform function"
      ],
      "metadata": {
        "id": "A4cR7BCAfmWy"
      }
    },
    {
      "cell_type": "code",
      "source": [
        "# 3. Define the transform function\n",
        "train_transforms = transforms.Compose([\n",
        "    transforms.Resize((224, 224)),  # Resize images to 224x224\n",
        "    transforms.ToTensor(),           # Convert images to PyTorch tensors\n",
        "    transforms.Normalize(mean=[0.485, 0.456, 0.406], std=[0.229, 0.224, 0.225])  # Normalize images\n",
        "])\n",
        "\n",
        "valid_transforms = transforms.Compose([\n",
        "    transforms.Resize((224, 224)),  # Resize images to 224x224\n",
        "    transforms.ToTensor(),           # Convert images to PyTorch tensors\n",
        "    transforms.Normalize(mean=[0.485, 0.456, 0.406], std=[0.229, 0.224, 0.225])  # Normalize images\n",
        "])"
      ],
      "metadata": {
        "id": "WBstB41wffkm"
      },
      "execution_count": 8,
      "outputs": []
    },
    {
      "cell_type": "code",
      "source": [
        "train_dataset.dataset.transform = train_transforms\n",
        "valid_dataset.dataset.transform = valid_transforms"
      ],
      "metadata": {
        "id": "-GTJFdZjfrts"
      },
      "execution_count": 9,
      "outputs": []
    },
    {
      "cell_type": "markdown",
      "source": [
        "### Define the data loaders"
      ],
      "metadata": {
        "id": "IJskjN5MfuKM"
      }
    },
    {
      "cell_type": "code",
      "source": [
        "batch_size = 32\n",
        "\n",
        "train_loader = DataLoader(train_dataset, batch_size=batch_size, shuffle=True)\n",
        "valid_loader = DataLoader(valid_dataset, batch_size=batch_size)"
      ],
      "metadata": {
        "id": "p1wxbt2Afzsn"
      },
      "execution_count": 10,
      "outputs": []
    },
    {
      "cell_type": "markdown",
      "source": [
        "## Model Setup"
      ],
      "metadata": {
        "id": "qjder6Xjb6hg"
      }
    },
    {
      "cell_type": "code",
      "source": [
        "num_classes = len(train_dataset.class)\n",
        "model = models.vgg16(pretrained=True)"
      ],
      "metadata": {
        "id": "zH002TE6gAdB",
        "colab": {
          "base_uri": "https://localhost:8080/",
          "height": 108
        },
        "outputId": "928d6fa8-c85f-4885-fdde-a2a6257514ec"
      },
      "execution_count": 12,
      "outputs": [
        {
          "output_type": "error",
          "ename": "SyntaxError",
          "evalue": "invalid syntax (<ipython-input-12-9efa6e0c7ce8>, line 1)",
          "traceback": [
            "\u001b[0;36m  File \u001b[0;32m\"<ipython-input-12-9efa6e0c7ce8>\"\u001b[0;36m, line \u001b[0;32m1\u001b[0m\n\u001b[0;31m    num_classes = len(train_dataset.class)\u001b[0m\n\u001b[0m                                    ^\u001b[0m\n\u001b[0;31mSyntaxError\u001b[0m\u001b[0;31m:\u001b[0m invalid syntax\n"
          ]
        }
      ]
    },
    {
      "cell_type": "code",
      "source": [
        "# Freeze all layers in the feature extractor\n",
        "for param in model.features.parameters():\n",
        "    param.requires_grad = False"
      ],
      "metadata": {
        "id": "9d9Bsw5ogWqI"
      },
      "execution_count": null,
      "outputs": []
    },
    {
      "cell_type": "code",
      "source": [
        "# Replace the last layer\n",
        "num_ftrs = model.classifier[6].in_features\n",
        "model.classifier[6] = nn.Linear(num_ftrs, num_classes)"
      ],
      "metadata": {
        "id": "toCOwDcDgZl4"
      },
      "execution_count": null,
      "outputs": []
    },
    {
      "cell_type": "code",
      "source": [
        "# Move the model to GPU if available\n",
        "#device = torch.device(\"cuda:0\" if torch.cuda.is_available() else \"cpu\")\n",
        "#model = model.to(device)"
      ],
      "metadata": {
        "id": "gQGHxmzqgbSO"
      },
      "execution_count": null,
      "outputs": []
    },
    {
      "cell_type": "code",
      "source": [
        "criterion = nn.CrossEntropyLoss()\n",
        "optimizer = optim.SGD(model.classifier.parameters(), lr=0.001, momentum=0.9)"
      ],
      "metadata": {
        "id": "X8RYHWi7gdrF"
      },
      "execution_count": null,
      "outputs": []
    },
    {
      "cell_type": "markdown",
      "source": [
        "## Training and validation Loop"
      ],
      "metadata": {
        "id": "Z9iFDx3WcJFy"
      }
    },
    {
      "cell_type": "code",
      "source": [
        "def train_model(model, criterion, optimizer, train_loader, valid_loader, num_epochs=25, device='cpu'):\n",
        "    best_acc = 0.0\n",
        "    for epoch in range(num_epochs):\n",
        "        model.train()\n",
        "        running_loss = 0.0\n",
        "        running_corrects = 0\n",
        "\n",
        "        for inputs, labels in train_loader:\n",
        "            inputs, labels = inputs.to(device), labels.to(device)\n",
        "\n",
        "            optimizer.zero_grad()\n",
        "\n",
        "            outputs = model(inputs)\n",
        "            _, preds = torch.max(outputs, 1)\n",
        "            loss = criterion(outputs, labels)\n",
        "\n",
        "            loss.backward()\n",
        "            optimizer.step()\n",
        "\n",
        "            running_loss += loss.item() * inputs.size(0)\n",
        "            running_corrects += torch.sum(preds == labels.data)\n",
        "\n",
        "        epoch_loss = running_loss / len(train_loader.dataset)\n",
        "        epoch_acc = running_corrects.double() / len(train_loader.dataset)\n",
        "\n",
        "        print(f'Train Epoch {epoch}/{num_epochs - 1}, Loss: {epoch_loss:.4f}, Acc: {epoch_acc:.4f}')\n",
        "\n",
        "        # Validation step\n",
        "        model.eval()\n",
        "        val_loss = 0.0\n",
        "        val_corrects = 0\n",
        "\n",
        "        for inputs, labels in valid_loader:\n",
        "            inputs, labels = inputs.to(device), labels.to(device)\n",
        "\n",
        "            with torch.no_grad():\n",
        "                outputs = model(inputs)\n",
        "                _, preds = torch.max(outputs, 1)\n",
        "                loss = criterion(outputs, labels)\n",
        "\n",
        "            val_loss += loss.item() * inputs.size(0)\n",
        "            val_corrects += torch.sum(preds == labels.data)\n",
        "\n",
        "        val_loss = val_loss / len(valid_loader.dataset)\n",
        "        val_acc = val_corrects.double() / len(valid_loader.dataset)\n",
        "\n",
        "        print(f'Val Loss: {val_loss:.4f}, Val Acc: {val_acc:.4f}')\n",
        "\n",
        "\n",
        "        #if val_acc > best_acc:\n",
        "            #best_acc = val_acc\n",
        "\n",
        "            # torch.save(model.state_dict(), 'best_model.pth')\n",
        "            #print('Validation accuracy increased, saving model')\n",
        "\n",
        "    return model\n"
      ],
      "metadata": {
        "id": "ykLfhqe4cD8o"
      },
      "execution_count": null,
      "outputs": []
    },
    {
      "cell_type": "code",
      "source": [
        "num_epochs = 10  # Set the number of epochs\n",
        "model_trained = train_model(model, criterion, optimizer, num_epochs=num_epochs)"
      ],
      "metadata": {
        "id": "y4j_AsiZcIjJ"
      },
      "execution_count": null,
      "outputs": []
    }
  ]
}