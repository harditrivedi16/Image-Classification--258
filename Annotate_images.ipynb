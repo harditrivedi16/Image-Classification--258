{
 "cells": [
  {
   "cell_type": "code",
   "execution_count": null,
   "id": "936d5373-efe1-4e62-965b-c6e7c01505e6",
   "metadata": {},
   "outputs": [],
   "source": [
    "print(\"Hello, ipykernel is working!\")\n"
   ]
  },
  {
   "cell_type": "code",
   "execution_count": 1,
   "id": "a16dcbfd-c3d2-4848-8ea1-783fe147a1d7",
   "metadata": {},
   "outputs": [],
   "source": [
    "import tkinter as tk\n",
    "from PIL import ImageTk, Image\n",
    "import os\n",
    "import shutil"
   ]
  },
  {
   "cell_type": "code",
   "execution_count": 2,
   "id": "be92d8a2-fcde-4719-a5ce-cfe7f7b9fec6",
   "metadata": {},
   "outputs": [],
   "source": [
    "HEIGHT = 1440\n",
    "WIDTH = 2560\n",
    "image_no = 0"
   ]
  },
  {
   "cell_type": "code",
   "execution_count": 3,
   "id": "d93fb205-a17e-4b26-bf94-95b08be3bd5e",
   "metadata": {},
   "outputs": [],
   "source": [
    " def fire(event):\n",
    "    #global current_image_path\n",
    "    shutil.move(current_image_path, './positives/'+current_image_path[21:])\n",
    "    grab_new_image()"
   ]
  },
  {
   "cell_type": "code",
   "execution_count": 4,
   "id": "6e420730-0a7a-43e9-902e-0ed7c9a37d36",
   "metadata": {},
   "outputs": [],
   "source": [
    "def nonfire(event):\n",
    "    global current_image_path\n",
    "    shutil.move(current_image_path, './negatives/'+current_image_path[21:])\n",
    "    grab_new_image()"
   ]
  },
  {
   "cell_type": "code",
   "execution_count": 5,
   "id": "425314b8-d042-4cbd-80cc-d117157b857d",
   "metadata": {},
   "outputs": [],
   "source": [
    "def delete(event):\n",
    "    global current_image_path\n",
    "    os.remove(current_image_path)\n",
    "    grab_new_image()"
   ]
  },
  {
   "cell_type": "code",
   "execution_count": 6,
   "id": "85183644-f376-444e-ba31-badc7d262a96",
   "metadata": {},
   "outputs": [],
   "source": [
    "def grab_new_image():\n",
    "    global image_no, current_image_path\n",
    "    image_no+=1\n",
    "    current_image_path = image_paths[image_no]\n",
    "    img2 = ImageTk.PhotoImage(Image.open(current_image_path))\n",
    "    panel.configure(image = img2)\n",
    "    panel.image = img2"
   ]
  },
  {
   "cell_type": "code",
   "execution_count": 7,
   "id": "5d2c3ad3-1acb-454a-8c3b-106289d28e37",
   "metadata": {},
   "outputs": [],
   "source": [
    "window = tk.Tk()\n",
    "window.title(\"annotator\")\n",
    "window.geometry(\"1440x2560\")\n",
    "window.configure(background='grey')"
   ]
  },
  {
   "cell_type": "code",
   "execution_count": 8,
   "id": "3c2c4eb8-e67d-49e4-a77a-815b024344be",
   "metadata": {},
   "outputs": [],
   "source": [
    "image_paths = ['./Data_without_class/'+filename for filename in os.listdir('./Data_without_class/')]\n",
    "current_image_path = image_paths[0]\n",
    "img = ImageTk.PhotoImage(Image.open(current_image_path))\n",
    "panel = tk.Label(window, image = img)\n",
    "panel.configure(image=img)\n",
    "panel.pack(side = \"bottom\", fill = \"both\", expand = \"yes\")"
   ]
  },
  {
   "cell_type": "code",
   "execution_count": 9,
   "id": "c145b1de-be92-4640-9198-297d4a07eb45",
   "metadata": {},
   "outputs": [
    {
     "data": {
      "text/plain": [
       "'4444890880delete'"
      ]
     },
     "execution_count": 9,
     "metadata": {},
     "output_type": "execute_result"
    }
   ],
   "source": [
    "window.bind_all('<KeyPress-1>', fire)\n",
    "window.bind_all('<KeyPress-0>', nonfire)\n",
    "window.bind_all('<KeyPress-d>', delete)"
   ]
  },
  {
   "cell_type": "code",
   "execution_count": null,
   "id": "9453d8c5-452b-48b6-83cd-27a6b9748eb1",
   "metadata": {},
   "outputs": [],
   "source": [
    "window.mainloop()"
   ]
  },
  {
   "cell_type": "code",
   "execution_count": null,
   "id": "bf550e3f-5de6-4bb5-99f7-78490a5a0955",
   "metadata": {},
   "outputs": [],
   "source": []
  }
 ],
 "metadata": {
  "kernelspec": {
   "display_name": "Python 3 (ipykernel)",
   "language": "python",
   "name": "python3"
  },
  "language_info": {
   "codemirror_mode": {
    "name": "ipython",
    "version": 3
   },
   "file_extension": ".py",
   "mimetype": "text/x-python",
   "name": "python",
   "nbconvert_exporter": "python",
   "pygments_lexer": "ipython3",
   "version": "3.11.7"
  }
 },
 "nbformat": 4,
 "nbformat_minor": 5
}
