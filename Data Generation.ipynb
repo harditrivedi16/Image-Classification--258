{
  "nbformat": 4,
  "nbformat_minor": 0,
  "metadata": {
    "colab": {
      "provenance": [],
      "mount_file_id": "https://github.com/harditrivedi16/Image-Classification--258/blob/main/Data%20Generation.ipynb",
      "authorship_tag": "ABX9TyOMmxJnuQbfRAqiyqcS+tLM",
      "include_colab_link": true
    },
    "kernelspec": {
      "name": "python3",
      "display_name": "Python 3"
    },
    "language_info": {
      "name": "python"
    }
  },
  "cells": [
    {
      "cell_type": "markdown",
      "metadata": {
        "id": "view-in-github",
        "colab_type": "text"
      },
      "source": [
        "<a href=\"https://colab.research.google.com/github/harditrivedi16/Image-Classification--258/blob/main/Data%20Generation.ipynb\" target=\"_parent\"><img src=\"https://colab.research.google.com/assets/colab-badge.svg\" alt=\"Open In Colab\"/></a>"
      ]
    },
    {
      "cell_type": "markdown",
      "source": [
        "### Assignment 2 Image Classification\n"
      ],
      "metadata": {
        "id": "MlrdRfZ3EKvA"
      }
    },
    {
      "cell_type": "code",
      "source": [
        "from google.colab import drive\n",
        "drive.mount('/content/drive')"
      ],
      "metadata": {
        "id": "5TrcKaaWGQNQ",
        "outputId": "7938e5cb-4557-430e-b743-512447259a3c",
        "colab": {
          "base_uri": "https://localhost:8080/"
        }
      },
      "execution_count": 1,
      "outputs": [
        {
          "output_type": "stream",
          "name": "stdout",
          "text": [
            "Drive already mounted at /content/drive; to attempt to forcibly remount, call drive.mount(\"/content/drive\", force_remount=True).\n"
          ]
        }
      ]
    },
    {
      "cell_type": "code",
      "source": [
        "import glob\n",
        "import os\n",
        "import subprocess\n",
        "import sys"
      ],
      "metadata": {
        "id": "sPngsHNLGwps"
      },
      "execution_count": 2,
      "outputs": []
    },
    {
      "cell_type": "code",
      "source": [
        "# Include slash or it will search in the wrong directory!!\n",
        "s = subprocess.check_output(\"ffmpeg -version\", shell = True)\n",
        "print(s.decode(\"utf-8\"))"
      ],
      "metadata": {
        "id": "6Z8oJsUjG3P3",
        "outputId": "b6d14a3e-9653-47ed-b317-a6297cff27aa",
        "colab": {
          "base_uri": "https://localhost:8080/"
        }
      },
      "execution_count": 3,
      "outputs": [
        {
          "output_type": "stream",
          "name": "stdout",
          "text": [
            "ffmpeg version 4.4.2-0ubuntu0.22.04.1 Copyright (c) 2000-2021 the FFmpeg developers\n",
            "built with gcc 11 (Ubuntu 11.2.0-19ubuntu1)\n",
            "configuration: --prefix=/usr --extra-version=0ubuntu0.22.04.1 --toolchain=hardened --libdir=/usr/lib/x86_64-linux-gnu --incdir=/usr/include/x86_64-linux-gnu --arch=amd64 --enable-gpl --disable-stripping --enable-gnutls --enable-ladspa --enable-libaom --enable-libass --enable-libbluray --enable-libbs2b --enable-libcaca --enable-libcdio --enable-libcodec2 --enable-libdav1d --enable-libflite --enable-libfontconfig --enable-libfreetype --enable-libfribidi --enable-libgme --enable-libgsm --enable-libjack --enable-libmp3lame --enable-libmysofa --enable-libopenjpeg --enable-libopenmpt --enable-libopus --enable-libpulse --enable-librabbitmq --enable-librubberband --enable-libshine --enable-libsnappy --enable-libsoxr --enable-libspeex --enable-libsrt --enable-libssh --enable-libtheora --enable-libtwolame --enable-libvidstab --enable-libvorbis --enable-libvpx --enable-libwebp --enable-libx265 --enable-libxml2 --enable-libxvid --enable-libzimg --enable-libzmq --enable-libzvbi --enable-lv2 --enable-omx --enable-openal --enable-opencl --enable-opengl --enable-sdl2 --enable-pocketsphinx --enable-librsvg --enable-libmfx --enable-libdc1394 --enable-libdrm --enable-libiec61883 --enable-chromaprint --enable-frei0r --enable-libx264 --enable-shared\n",
            "libavutil      56. 70.100 / 56. 70.100\n",
            "libavcodec     58.134.100 / 58.134.100\n",
            "libavformat    58. 76.100 / 58. 76.100\n",
            "libavdevice    58. 13.100 / 58. 13.100\n",
            "libavfilter     7.110.100 /  7.110.100\n",
            "libswscale      5.  9.100 /  5.  9.100\n",
            "libswresample   3.  9.100 /  3.  9.100\n",
            "libpostproc    55.  9.100 / 55.  9.100\n",
            "\n"
          ]
        }
      ]
    },
    {
      "cell_type": "markdown",
      "source": [
        "### Converting the the following youtube video into images\n",
        "\n",
        "[Wildfire Youtube video 1](https://youtu.be/32YGGYaUTgE?feature=shared)"
      ],
      "metadata": {
        "id": "S85zkx8IKvh0"
      }
    },
    {
      "cell_type": "code",
      "source": [
        "# Adjust the path to the wildfire video in your Google Drive\n",
        "video_file = '/content/drive/MyDrive/CMPE 258 Assignment 2/Data/Wildfire_video.mp4'"
      ],
      "metadata": {
        "id": "NDiRTFvFG6MW"
      },
      "execution_count": 4,
      "outputs": []
    },
    {
      "cell_type": "code",
      "source": [
        "simpletitle = os.path.splitext(os.path.basename(video_file))[0]\n",
        "output_directory = os.path.dirname(video_file)\n",
        "ffmpegcmdstr = f'ffmpeg -i \"{video_file}\" -vf fps=1 \"{output_directory}/{simpletitle}-%d.jpg\"'\n",
        "print(ffmpegcmdstr)"
      ],
      "metadata": {
        "id": "9GckOwUnHxW8",
        "outputId": "5fd80142-13c1-420e-f39a-f29a5f17fdfb",
        "colab": {
          "base_uri": "https://localhost:8080/"
        }
      },
      "execution_count": 7,
      "outputs": [
        {
          "output_type": "stream",
          "name": "stdout",
          "text": [
            "ffmpeg -i \"/content/drive/MyDrive/CMPE 258 Assignment 2/Data/Wildfire_video.mp4\" -vf fps=1 \"/content/drive/MyDrive/CMPE 258 Assignment 2/Data/Wildfire_video-%d.jpg\"\n"
          ]
        }
      ]
    },
    {
      "cell_type": "code",
      "source": [
        "# Execute the ffmpeg command\n",
        "s = subprocess.check_output(ffmpegcmdstr, shell=True)\n",
        "print(s.decode(\"utf-8\"))"
      ],
      "metadata": {
        "id": "svNVZ3HtHzzp",
        "outputId": "11815cc2-bc94-497d-ab8b-90cd479009b5",
        "colab": {
          "base_uri": "https://localhost:8080/"
        }
      },
      "execution_count": 8,
      "outputs": [
        {
          "output_type": "stream",
          "name": "stdout",
          "text": [
            "\n"
          ]
        }
      ]
    },
    {
      "cell_type": "markdown",
      "source": [
        "### Converting the the following youtube video into images\n",
        "\n",
        "[Wildfire Youtube video 2](https://youtu.be/7BhDwVefhP8?feature=shared)"
      ],
      "metadata": {
        "id": "1Z94LCaELvD5"
      }
    },
    {
      "cell_type": "code",
      "source": [
        "# Adjust the path to the wildfire video in your Google Drive\n",
        "video_file_2 = '/content/drive/MyDrive/CMPE 258 Assignment 2/Data/Wildfire_Video_2.mp4'"
      ],
      "metadata": {
        "id": "cxvInVB1H3Ct"
      },
      "execution_count": 19,
      "outputs": []
    },
    {
      "cell_type": "code",
      "source": [
        "simpletitle = os.path.splitext(os.path.basename(video_file_2))[0]\n",
        "output_directory_2 = os.path.dirname(video_file_2)\n",
        "ffmpegcmdstr = f'ffmpeg -i \"{video_file_2}\" -vf fps=1 \"{output_directory_2}/{simpletitle}-%d.jpg\"'\n",
        "print(ffmpegcmdstr)"
      ],
      "metadata": {
        "id": "8oVGhV22LNQp",
        "outputId": "c69e7c53-6fdf-4be2-b746-36bd1dc355f0",
        "colab": {
          "base_uri": "https://localhost:8080/"
        }
      },
      "execution_count": 20,
      "outputs": [
        {
          "output_type": "stream",
          "name": "stdout",
          "text": [
            "ffmpeg -i \"/content/drive/MyDrive/CMPE 258 Assignment 2/Data/Wildfire_Video_2.mp4\" -vf fps=1 \"/content/drive/MyDrive/CMPE 258 Assignment 2/Data/Wildfire_Video_2-%d.jpg\"\n"
          ]
        }
      ]
    },
    {
      "cell_type": "code",
      "source": [
        "# Execute the ffmpeg command\n",
        "s = subprocess.check_output(ffmpegcmdstr, shell=True)\n",
        "print(s.decode(\"utf-8\"))"
      ],
      "metadata": {
        "id": "GrLPjDMVLSh5",
        "outputId": "9e7c5b2f-ed11-4e46-9137-b400df67e4f0",
        "colab": {
          "base_uri": "https://localhost:8080/"
        }
      },
      "execution_count": 21,
      "outputs": [
        {
          "output_type": "stream",
          "name": "stdout",
          "text": [
            "\n"
          ]
        }
      ]
    }
  ]
}